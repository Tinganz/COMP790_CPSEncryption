{
 "cells": [
  {
   "attachments": {},
   "cell_type": "markdown",
   "id": "4807835e",
   "metadata": {},
   "source": [
    "# Reachability Analysis for Split Computing Neural Networks"
   ]
  },
  {
   "attachments": {},
   "cell_type": "markdown",
   "id": "e31b325f",
   "metadata": {},
   "source": [
    "## 1. Import Packages"
   ]
  },
  {
   "cell_type": "code",
   "execution_count": 1,
   "id": "7a156c97-cb06-4b05-81de-4c57a1173a62",
   "metadata": {},
   "outputs": [
    {
     "name": "stderr",
     "output_type": "stream",
     "text": [
      "\u001b[32m\u001b[1m  Activating\u001b[22m\u001b[39m project at `~/NoisyReach.jl`\n"
     ]
    },
    {
     "name": "stderr",
     "output_type": "stream",
     "text": [
      "┌ Warning: The project dependencies or compat requirements have changed since the manifest was last resolved.\n",
      "│ It is recommended to `Pkg.resolve()` or consider `Pkg.update()` if necessary.\n",
      "└ @ Pkg.API /Users/tingan/.julia/juliaup/julia-1.10.3+0.aarch64.apple.darwin14/share/julia/stdlib/v1.10/Pkg/src/API.jl:1807\n"
     ]
    }
   ],
   "source": [
    "begin\n",
    "\timport Pkg\n",
    "\tPkg.activate(\"..\")\n",
    "\tPkg.instantiate()\n",
    "\t\n",
    "    push!(LOAD_PATH, \"$(@__DIR__)/../src\")\n",
    "    \n",
    "    using Plots\n",
    "    using NoisyReach\n",
    "    using Distributions\n",
    "    using Experiment\n",
    "    using QuadGK\n",
    "    using ControlSystemsBase\n",
    "    using LinearAlgebra\n",
    "    using ReachabilityAnalysis\n",
    "end"
   ]
  },
  {
   "attachments": {},
   "cell_type": "markdown",
   "id": "7c3c7599",
   "metadata": {},
   "source": [
    "## 2. Validation for Integral function"
   ]
  },
  {
   "cell_type": "code",
   "execution_count": 2,
   "id": "c4cd3ac4-06f4-48a2-a11f-c1b2ef9a1a54",
   "metadata": {},
   "outputs": [],
   "source": [
    "#const Ts = 0.01\n",
    "#const Dc = 0.005\n",
    "#sys = benchmarks[:F1]"
   ]
  },
  {
   "cell_type": "code",
   "execution_count": 3,
   "id": "46e5ef64-b995-49ac-84f2-3f56a1d359fc",
   "metadata": {},
   "outputs": [],
   "source": [
    "#sys_aug_ = let\n",
    "#    ϕ = ℯ^(Ts * sys.A)\n",
    "#    Γ₁ = matrix_integral(sys.A, sys.B, Dc, Ts)\n",
    "#    Γ₀ = matrix_integral(sys.A, sys.B, 0.0, Ts - Dc)\n",
    "#    ϕ_aug = [ϕ Γ₁; 0 0 0]\n",
    "#    Γ_aug = [Γ₀; I]\n",
    "#    C_aug = [sys.C 0]\n",
    "#    ss(ϕ_aug, Γ_aug, C_aug, sys.D, Ts)\n",
    "#end"
   ]
  },
  {
   "cell_type": "code",
   "execution_count": 4,
   "id": "0bd95d15-4514-4e84-ad92-08c218e0248c",
   "metadata": {},
   "outputs": [],
   "source": [
    "#sys_aug = c2d(sys, Ts) * delay(Dc, Ts)\n",
    "#sys_aug = c2d(sys, Ts) * thiran(Dc, Ts)"
   ]
  },
  {
   "attachments": {},
   "cell_type": "markdown",
   "id": "a99203ea",
   "metadata": {},
   "source": [
    "## 3. Physical System and Neural Networks Uncertainty Setup"
   ]
  },
  {
   "cell_type": "code",
   "execution_count": 5,
   "id": "1622ef1c",
   "metadata": {},
   "outputs": [
    {
     "data": {
      "text/plain": [
       "0.02"
      ]
     },
     "metadata": {},
     "output_type": "display_data"
    }
   ],
   "source": [
    "sys = benchmarks[:F1]\n",
    "const period = 0.02\n",
    "const period_c = 0.001\n",
    "const Dc1 =    0.005\n",
    "const Dc2 =    period"
   ]
  },
  {
   "cell_type": "code",
   "execution_count": 6,
   "id": "e0c4ba0d",
   "metadata": {},
   "outputs": [
    {
     "data": {
      "text/plain": [
       "1×2 Matrix{Float64}:\n",
       " 0.987398  1.27555"
      ]
     },
     "metadata": {},
     "output_type": "display_data"
    }
   ],
   "source": [
    "sys_ideal = c2d(sys, period_c)\n",
    "K_ideal = lqr(ControlSystemsBase.Discrete, sys_ideal.A, sys_ideal.B, I, I)"
   ]
  },
  {
   "cell_type": "code",
   "execution_count": 7,
   "id": "8178ce40",
   "metadata": {},
   "outputs": [
    {
     "data": {
      "text/plain": [
       "2×3 Matrix{Float64}:\n",
       " 0.809378   1.17075   0.106169\n",
       " 0.0707289  0.135018  0.0124974"
      ]
     },
     "metadata": {},
     "output_type": "display_data"
    }
   ],
   "source": [
    "sys_aug = let\n",
    "    ϕ = ℯ^(period * sys.A)\n",
    "    Γ2 = matrix_integral(sys.A, sys.B, 0.0, period - Dc2)\n",
    "    Γ1 = matrix_integral(sys.A, sys.B, 0.0, Dc2 - Dc1)\n",
    "    Γ3 = matrix_integral(sys.A, sys.B, period - Dc2, period - Dc2+Dc1)\n",
    "    ϕ_aug = [ϕ Γ3; 0 0 0]\n",
    "    Γ_aug = [Γ1 Γ2; 0 I]\n",
    "    C_aug = [sys.C 0]\n",
    "    D_aug = [sys.D 0]\n",
    "    ss(ϕ_aug, Γ_aug, C_aug, D_aug, period)\n",
    "end\n",
    "K = lqr(ControlSystemsBase.Discrete, sys_aug.A, sys_aug.B, I, I)"
   ]
  },
  {
   "cell_type": "code",
   "execution_count": 8,
   "id": "f21e7262",
   "metadata": {},
   "outputs": [
    {
     "data": {
      "text/plain": [
       "2-element Vector{Float64}:\n",
       " 1.0\n",
       " 1.0"
      ]
     },
     "metadata": {},
     "output_type": "display_data"
    }
   ],
   "source": [
    "σ1 = 0.3\n",
    "σ2 = 0.2\n",
    "μ = 0.\n",
    "H = 1000\n",
    "H_c= floor(Int, H * period / period_c)\n",
    "x0 = 1.\n",
    "u1_0 = 0.\n",
    "u2_0 = 0.\n",
    "u0 = 0.\n",
    "n = 1\n",
    "z0 = [fill(x0, size(sys.A, 1)); u2_0]\n",
    "x0 = fill(x0, size(sys.A, 1))"
   ]
  },
  {
   "attachments": {},
   "cell_type": "markdown",
   "id": "41b2bdf0",
   "metadata": {},
   "source": [
    "## 4. Calculate and Plot Reachable Trajectories"
   ]
  },
  {
   "cell_type": "code",
   "execution_count": 9,
   "id": "78c73519",
   "metadata": {},
   "outputs": [
    {
     "data": {
      "text/plain": [
       "([[1.0, 1.0], [1.0065, 1.0], [1.0128548141216618, 0.9553274220498026], [1.0189225005649245, 0.9116530220310246], [1.024709484167767, 0.8689573173051378], [1.030222064315044, 0.8272211895492936], [1.035466417284732, 0.7864258780470461], [1.0404485985509664, 0.7465529731019375], [1.0451745450446557, 0.707584409571698], [1.0496500773724566, 0.6695024605208595]  …  [1.0670426686916479e-60, -1.1404199619260659e-60], [1.0596555978753784e-60, -1.1325249046184094e-60], [1.05231966729637e-60, -1.1246845043072736e-60], [1.045034522913903e-60, -1.116898382605631e-60], [1.0377998131382603e-60, -1.1091661637460036e-60], [1.0306151888137583e-60, -1.1014874745623291e-60], [1.0234803032018968e-60, -1.0938619444719508e-60], [1.0163948119646253e-60, -1.0862892054577327e-60], [1.0093583731477242e-60, -1.0787688920502991e-60], [1.0023706471643019e-60, -1.0713006413103964e-60]], [[0.0], [-2.2693669598700295], [-2.2186595209539215], [-2.168941800075048], [-2.1201952899968886], [-2.0724018243141704], [-2.0255435712115197], [-1.9796030273361642], [-1.9345630117825985], [-1.8904066601871765]  …  [4.010689112289493e-61], [3.982923358056955e-61], [3.9553498244345186e-61], [3.9279671806907204e-61], [3.9007741053066554e-61], [3.8737692859122226e-61], [3.846951419222778e-61], [3.820319210976232e-61], [3.793871375870593e-61], [3.767606637501942e-61]])"
      ]
     },
     "metadata": {},
     "output_type": "display_data"
    }
   ],
   "source": [
    "all_trajectories_z = []\n",
    "all_trajectories_u = []\n",
    "N = 10000\n",
    "for i in 1:N\n",
    "    z, u = evolve(sys_aug.A, sys_aug.B, K, H, z0, u1_0, u2_0, σ1, σ2, μ, n)\n",
    "    push!(all_trajectories_z, z)\n",
    "    push!(all_trajectories_u, u)\n",
    "end\n",
    "z_ideal, u_ideal = ideal_evolve(sys_ideal.A, sys_ideal.B, K_ideal, H_c, x0, u0)"
   ]
  },
  {
   "cell_type": "code",
   "execution_count": 10,
   "id": "9e312b32-1e63-4d7a-bb54-96780ad5ff09",
   "metadata": {},
   "outputs": [
    {
     "data": {
      "text/plain": [
       "2"
      ]
     },
     "metadata": {},
     "output_type": "display_data"
    }
   ],
   "source": [
    "const xlim = 2\n",
    "const ylim = 2\n",
    "#Plots.scalefontsizes(0.1)"
   ]
  },
  {
   "cell_type": "code",
   "execution_count": 11,
   "id": "76b28b4d",
   "metadata": {},
   "outputs": [
    {
     "data": {
      "text/plain": [
       "\"/Users/tingan/NoisyReach.jl/experiments/edge_only.png\""
      ]
     },
     "metadata": {},
     "output_type": "display_data"
    }
   ],
   "source": [
    "traj_plot = plot(\n",
    "    xlabel = \"\\$x_1\\$\",\n",
    "    ylabel = \"\\$x_2\\$\",\n",
    "    xguidefont = font(24),   # make x-axis label bigger\n",
    "    yguidefont = font(24),   # make y-axis label bigger\n",
    "    xtickfont = font(16),    # optional: make tick labels bigger\n",
    "    ytickfont = font(16)\n",
    ")\n",
    "for trajectory in all_trajectories_z\n",
    "    x_z = [point[1] for point in trajectory]\n",
    "    y_z = [point[2] for point in trajectory]\n",
    "    \n",
    "    plot!(x_z, y_z, xlim=(0, xlim), ylim=(-ylim, ylim), label=\"\", linecolor=:lightgray, linewidth=1)#, marker=:circle, markercolor=:yellow, markersize=2)\n",
    "end\n",
    "x_z_ideal = [point[1] for point in z_ideal]\n",
    "y_z_ideal = [point[2] for point in z_ideal]\n",
    "plot!(x_z_ideal, y_z_ideal, xlim=(0, xlim+0.2), ylim=(-ylim, ylim), label=\"\", linecolor=:black, linewidth=2)\n",
    "savefig(traj_plot, \"edge_only.png\")"
   ]
  },
  {
   "cell_type": "code",
   "execution_count": 12,
   "id": "cbcce122",
   "metadata": {},
   "outputs": [
    {
     "name": "stdout",
     "output_type": "stream",
     "text": [
      "Std: 0.006833365548400954"
     ]
    },
    {
     "name": "stdout",
     "output_type": "stream",
     "text": [
      "\n",
      "Max: 0.05915939124667274\n",
      "Mean: 0.029354515844199625\n"
     ]
    }
   ],
   "source": [
    "dev_trajs = [[(z_ideal[1+(k-1)*floor(Int, period / period_c)] .- all_trajectories_z[i][k][1:2]) for k in 1:H] for i in 1:N]\n",
    "dev₁_trajs = [[dev[1] for dev in dev_traj] for dev_traj in dev_trajs]\n",
    "\n",
    "max_max_x₁ = maximum(xd -> maximum(xd -> abs(xd[1]), xd), all_trajectories_z)\n",
    "\n",
    "mean_mean_dev₁ = mean([mean(abs.(dev₁_traj)) for dev₁_traj in dev₁_trajs])\n",
    "max_max_dev₁ = maximum([maximum(abs.(dev₁_traj)) for dev₁_traj in dev₁_trajs])\n",
    "\n",
    "std_rmse_dev₁ = std([std(dev₁_traj) for dev₁_traj in dev₁_trajs])\n",
    "max_rmse_dev₁ = maximum([std(dev₁_traj) for dev₁_traj in dev₁_trajs])\n",
    "mean_rmse_dev₁ = mean([std(dev₁_traj) for dev₁_traj in dev₁_trajs])\n",
    "\n",
    "println(\"Std: \", std_rmse_dev₁)\n",
    "println(\"Max: \", max_rmse_dev₁)\n",
    "println(\"Mean: \", mean_rmse_dev₁)"
   ]
  }
 ],
 "metadata": {
  "kernelspec": {
   "display_name": "Julia 1.10.3",
   "language": "julia",
   "name": "julia-1.10"
  },
  "language_info": {
   "file_extension": ".jl",
   "mimetype": "application/julia",
   "name": "julia",
   "version": "1.10.3"
  }
 },
 "nbformat": 4,
 "nbformat_minor": 5
}
